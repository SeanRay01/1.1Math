{
 "cells": [
  {
   "cell_type": "code",
   "execution_count": 1,
   "metadata": {},
   "outputs": [],
   "source": [
    "import numpy as np\n",
    "pi=np.pi\n",
    "def sin(t):\n",
    "    return(np.round(np.sin(t/180*pi),9))\n",
    "def cos(t):\n",
    "    return(np.round(np.cos(t/180*pi),9))\n",
    "def ten(t):\n",
    "    return(np.round(np.tan(t/180*pi),9))\n",
    "def atan2(x,y):\n",
    "    return(round(np.arctan2(x,y)*180/pi,5))\n",
    "def P3(x,y,z):#位置矢量\n",
    "    return(np.mat([[x],[y],[z]]))\n",
    "def P4(x,y,z):#位置矢量\n",
    "    return(np.mat([[x],[y],[z],[1]]))\n",
    "def DQ(x,y,z):#平移算式\n",
    "    return(np.mat([[1,0,0,x],\n",
    "                     [0,1,0,y],\n",
    "                     [0,0,1,z],\n",
    "                     [0,0,0,1]],dtype='float'))\n",
    "def Rx(t):#X旋轉\n",
    "    return(np.mat([[1,0,0],\n",
    "                     [0,cos(t),-sin(t)],\n",
    "                     [0,sin(t),cos(t)]]))\n",
    "def Ry(t):#Y旋轉\n",
    "    return(np.mat([[cos(t),0,sin(t)],\n",
    "                     [0,1,0],\n",
    "                     [-sin(t),0,cos(t)]]))\n",
    "def Rz(t):#Z旋轉\n",
    "    return(np.mat([[cos(t),-sin(t),0],\n",
    "                     [sin(t),cos(t),0],\n",
    "                     [0,0,1]]))  \n",
    "def R(r11,r12,r13,r21,r22,r23,r31,r32,r33):#平移算式\n",
    "    return(np.mat([[r11,r12,r13],\n",
    "                     [r21,r22,r23],\n",
    "                     [r31,r32,r33]]))\n",
    "def T(r,dq):#一般變換!!!\n",
    "    dq[0:3,0:3]=r\n",
    "    return(dq)\n",
    "def Tt(r,p):#逆變換!!!\n",
    "    p=-r.T*p\n",
    "    return(np.vstack((np.hstack((r.T,p)),[0,0,0,1])))\n",
    "def Rxyz(r,b,a):#XYZ固定角\n",
    "    return(np.mat([[cos(a)*cos(b),cos(a)*sin(b)*sin(r)-sin(a)*cos(r),cos(a)*sin(b)*cos(r)+sin(a)*sin(r)],\n",
    "                     [sin(a)*cos(b),sin(a)*sin(b)*sin(r)+cos(a)*cos(r),sin(a)*sin(b)*cos(r)-cos(a)*sin(r)],\n",
    "                     [-sin(b),cos(b)*sin(r),cos(b)*cos(r)]]))\n",
    "def Rzyz(r,b,a):#ZYZ歐拉角\n",
    "    return(np.mat([[cos(a)*cos(b)*cos(r)-sin(a)*sin(r),-cos(a)*cos(b)*sin(r)-sin(a)*cos(r),cos(a)*sin(b)],\n",
    "                     [sin(a)*cos(b)*cos(r)+cos(a)*sin(r),-sin(a)*cos(b)*sin(r)+cos(a)*cos(r),sin(a)*sin(b)],\n",
    "                     [-sin(b)*cos(r),sin(b)*sin(r),cos(b)]]))                     \n",
    "def Rk(th,x,y,z):#等效角\n",
    "    return(np.mat([[x*x*(1-cos(th))+cos(th),y*x*(1-cos(th))-z*sin(th),z*x*(1-cos(th))+y*sin(th)],\n",
    "                     [x*y*(1-cos(th))+z*sin(th),y*y*(1-cos(th))+cos(th),z*y*(1-cos(th))-x*sin(th)],\n",
    "                     [x*z*(1-cos(th))-y*sin(th),y*z*(1-cos(th))+x*sin(th),z*z*(1-cos(th))+cos(th)]]))\n",
    "def DH(i,a,alpha,d,theta):\n",
    "    i-=1\n",
    "    return(np.mat([[cos(theta[i]),-sin(theta[i]),0,a[i]],\n",
    "                     [sin(theta[i])*cos(alpha[i]),cos(theta[i])*cos(alpha[i]),-sin(alpha[i]),-sin(alpha[i])*d[i]],\n",
    "                     [sin(theta[i])*sin(alpha[i]),cos(theta[i])*sin(alpha[i]),cos(alpha[i]),cos(alpha[i])*d[i]],\n",
    "                     [0,0,0,1]]))\n",
    "def ivk(t,a,alpha,d):\n",
    "    th11=round(atan2(t[1,3],t[0,3])-atan2(0,(t[0,3]**2 + t[1,3]**2)**0.5),2)\n",
    "    th12=round(atan2(t[1,3],t[0,3])-atan2(0,-(t[0,3]**2 + t[1,3]**2)**0.5),2)\n",
    "    k=(t[0,3]**2+t[1,3]**2+t[2,3]**2-a[2]**2-a[3]**2-d[2]**2-d[3]**2)/(2*a[2])\n",
    "    th31=round(atan2(a[3],d[3])-atan2(k,((a[3]**2)+(d[3]**2)-(k**2))**0.5),2)\n",
    "    th32=round(atan2(a[3],d[3])+atan2(k,-((a[3]**2)+(d[3]**2)-(k**2))**0.5),2)\n",
    "    return(th11,th12)"
   ]
  },
  {
   "cell_type": "code",
   "execution_count": 2,
   "metadata": {},
   "outputs": [],
   "source": [
    "#2.3映射\n",
    "#座標平移\n",
    "# aP=bP+aPborg\n",
    "#座標旋轉\n",
    "# abR=baRt\n",
    "# aP=abR*bP\n",
    "#一般變換\n",
    "# aP=abR*bP+aPborg\n",
    "# aP=abT*bP\n",
    "# [aP ]=[a b R |aPborg]*[bP ]\n",
    "# [ 1 ] [0 0 0 |   1  ] [ 1 ]"
   ]
  },
  {
   "cell_type": "code",
   "execution_count": 3,
   "metadata": {},
   "outputs": [
    {
     "name": "stdout",
     "output_type": "stream",
     "text": [
      "[[1.]\n",
      " [4.]\n",
      " [0.]\n",
      " [1.]]\n",
      "[[-1.        ]\n",
      " [ 1.73205081]\n",
      " [ 0.        ]]\n",
      "[[ 9.09807621]\n",
      " [12.56217783]\n",
      " [ 0.        ]\n",
      " [ 1.        ]]\n"
     ]
    }
   ],
   "source": [
    "#2.4算式\n",
    "#平移算式\n",
    "ap1=P4(0,2,0)\n",
    "ap2=DQ(1,2,0)*ap1\n",
    "print(ap2)\n",
    "#旋轉算式\n",
    "ap1=P3(0,2,0)\n",
    "ap2=Rz(30)*ap1\n",
    "print(ap2)\n",
    "#變化算式\n",
    "ap1=P4(3,7,0)\n",
    "ap2=T(Rz(30),DQ(10,5,0))*ap1\n",
    "print(ap2)"
   ]
  },
  {
   "cell_type": "code",
   "execution_count": 4,
   "metadata": {},
   "outputs": [
    {
     "name": "stdout",
     "output_type": "stream",
     "text": [
      "[[ 0.8660254 -0.5        0.         4.       ]\n",
      " [ 0.5        0.8660254  0.         3.       ]\n",
      " [ 0.         0.         1.         0.       ]\n",
      " [ 0.         0.         0.         1.       ]]\n",
      "[[ 0.8660254   0.5         0.         -4.96410162]\n",
      " [-0.5         0.8660254   0.         -0.59807621]\n",
      " [ 0.          0.          1.          0.        ]\n",
      " [ 0.          0.          0.          1.        ]]\n"
     ]
    }
   ],
   "source": [
    "#2.6變換的計算\n",
    "#複合變化\n",
    "# aP=abT*bP\n",
    "# bP=bcT*cP\n",
    "# aP=abT*bcT*cP\n",
    "# acT=abT*bcT\n",
    "# [acT]=[abR*bcR|abR*bPcorg+aPborg]\n",
    "# [ 1 ] [0, 0, 0|        1        ]\n",
    "\n",
    "#逆變化\n",
    "# abR=baRt\n",
    "# [baT]=[abRt|-abRt*aPborg]\n",
    "# [ 1 ] [0, 0, 0|    1    ]\n",
    "abT=T(Rz(30),DQ(4,3,0))\n",
    "print(abT)\n",
    "baT=Tt(Rz(30),P3(4,3,0))\n",
    "print(baT)\n"
   ]
  },
  {
   "cell_type": "code",
   "execution_count": 5,
   "metadata": {},
   "outputs": [],
   "source": [
    "#2.7變化方程\n",
    "# udT=uaT*adT\n",
    "# udT=ubT*bcT*cdT\n",
    "# uaT*adT=ubT*bcT*cdT\n",
    "# ucT=uaT*daTt*dcT"
   ]
  },
  {
   "cell_type": "code",
   "execution_count": 6,
   "metadata": {},
   "outputs": [
    {
     "name": "stdout",
     "output_type": "stream",
     "text": [
      "[[ 0.8660254 -0.5        0.       ]\n",
      " [ 0.5        0.8660254  0.       ]\n",
      " [ 0.         0.         1.       ]]\n",
      "[[ 1.         0.         0.       ]\n",
      " [ 0.         0.8660254 -0.5      ]\n",
      " [ 0.         0.5        0.8660254]]\n",
      "[[ 0.8660254 -0.4330127  0.25     ]\n",
      " [ 0.5        0.75      -0.4330127]\n",
      " [ 0.         0.5        0.8660254]]\n",
      "[[ 0.8660254 -0.5        0.       ]\n",
      " [ 0.4330127  0.75      -0.5      ]\n",
      " [ 0.25       0.4330127  0.8660254]]\n",
      "[[ 0.61505813 -0.75003482  0.24321035]\n",
      " [ 0.75595174  0.64861464  0.08852133]\n",
      " [-0.22414387  0.12940952  0.96592583]]\n",
      "r= 30.0 b= 15.0 a= 20.0\n",
      "[[ 0.93299247  0.06696707  0.3535      0.        ]\n",
      " [ 0.06696707  0.93299247 -0.3535      0.        ]\n",
      " [-0.3535      0.3535      0.8660254   0.        ]\n",
      " [ 0.          0.          0.          1.        ]]\n",
      "[[ 0.93299247  0.06696707  0.3535     -1.12742661]\n",
      " [ 0.06696707  0.93299247 -0.3535      1.12754799]\n",
      " [-0.3535      0.3535      0.8660254   0.04842379]\n",
      " [ 0.          0.          0.          1.        ]]\n"
     ]
    }
   ],
   "source": [
    "#2.8其他姿態描述\n",
    "print(Rz(30))\n",
    "print(Rx(30))\n",
    "print(Rz(30)*Rx(30))\n",
    "print(Rx(30)*Rz(30))\n",
    "#XYZ固定角\n",
    "# abRxyz(r,b,a)=Rz(a)Ry(b)Rx(r)\n",
    "#               [ca*cb, ca*sb*sr-sa*cr, ca*sb*cr+sa*sr] [r11, r12, r13]\n",
    "# abRxyz(r,b,a)=[sa*cb, sa*sb*sr+ca*cr, sa*sb*cr-ca*sr]=[r21, r22, r23]\n",
    "#               [ -sb ,      cb*sr    ,      cb*cr    ] [r31, r32, r33]\n",
    "# b=Atan2(-r31,(r11**2+r21**2)**1/2)\n",
    "# a=Atan2(r21/cb,r11/cb)\n",
    "# r=Atan2(r32/cb,r33/cb)\n",
    "# 奇異點\n",
    "# b= 90: a=0,r=Atan2(r12,r22)\n",
    "# b=-90: a=0,r=-Atan2(r12,r22)\n",
    "\n",
    "#ZYZ歐拉角\n",
    "#               [ca*cb*cr-sa*sr, -ca*cb*sr-sa*cr, ca*sb] [r11, r12, r13]\n",
    "# abRzyz(r,b,a)=[sa*cb*cr+ca*sr, -sa*cb*sr+ca*cr, sa*sb]=[r21, r22, r23]\n",
    "#               [    -sb*cr    ,      sb*sr     ,  cb  ] [r31, r32, r33]\n",
    "# b=Atan2((r31**2+r32**2)**1/2,r33)\n",
    "# a=Atan2(r23/sb,r13/sb)\n",
    "# r=Atan2(r32/sb,r31/sb)\n",
    "# 奇異點\n",
    "# b= 0 : a=0,r=Atan2(-r12, r11)\n",
    "# b=180: a=0,r=Atan2( r12,-r11)\n",
    "mat=Rzyz(30,15,20)\n",
    "print(mat)\n",
    "b=atan2((mat[2,0]**2+mat[2,1]**2)**(1/2),mat[2,2])\n",
    "a=atan2(mat[1,2]/sin(b),mat[0,2]/sin(b))\n",
    "r=atan2(mat[2,1]/sin(b),-mat[2,0]/sin(b))\n",
    "print('r=',r,'b=',b,'a=',a)\n",
    "#等效角度\n",
    "#       [ x*x*(1-c0)+c0 , y*x*(1-c0)-z*s0, z*x*(1-c0)+y*s0] [r11, r12, r13]\n",
    "# Rk(0)=[x*y*(1-c0)+z*s0,  y*y*(1-c0)+c0 , z*y*(1-c0)-x*s0]=[r21, r22, r23]\n",
    "#       [x*z*(1-c0)-y*s0, y*z*(1-c0)+x*s0,  z*z*(1-c0)+c0 ] [r31, r32, r33]\n",
    "# 0=Acon((r11+r22+r33-1)/2)\n",
    "#           [r32-r23]\n",
    "# k=1/2sin0*[r13-r31]\n",
    "#           [r21-r12]\n",
    "print(T(Rk(30,0.707,0.707,0),DQ(0,0,0)))\n",
    "\n",
    "aaT=T(Rz(0),DQ(1,2,3))\n",
    "abT=T(Rk(30,0.707,0.707,0),DQ(0,0,0))\n",
    "bbT=T(Rz(0),DQ(-1,-2,-3))\n",
    "print(aaT*abT*bbT)"
   ]
  },
  {
   "cell_type": "code",
   "execution_count": 7,
   "metadata": {},
   "outputs": [
    {
     "name": "stdout",
     "output_type": "stream",
     "text": [
      "2.2\n",
      " [[ 2.3660254 ]\n",
      " [-0.06935035]\n",
      " [ 2.89777748]]\n",
      "2.3\n",
      " [[ 2.3660254 ]\n",
      " [-0.06935035]\n",
      " [ 2.89777748]]\n",
      "2.12\n",
      " [[ 9.66025404]\n",
      " [19.32050808]\n",
      " [39.        ]\n",
      " [ 1.        ]]\n"
     ]
    }
   ],
   "source": [
    "# 練習\n",
    "# 2.2\n",
    "ap=P3(1,2,3)\n",
    "ap=Ry(30)*ap\n",
    "ap=Rx(45)*ap\n",
    "print('2.2\\n',ap)\n",
    "# 2.3\n",
    "ap=P3(1,2,3)\n",
    "ap=Ry(30)*ap\n",
    "ap=Rx(45)*ap\n",
    "print('2.3\\n',ap)\n",
    "# 2.12\n",
    "bv=P4(10,20,30)\n",
    "abt=T(Rz(30),DQ(11,-3,9))\n",
    "av=abt*bv\n",
    "print('2.12\\n',av)"
   ]
  },
  {
   "cell_type": "code",
   "execution_count": 8,
   "metadata": {},
   "outputs": [
    {
     "name": "stdout",
     "output_type": "stream",
     "text": [
      "2.13\n",
      " [[  0.8660254  -0.5         0.          0.       ]\n",
      " [  0.5         0.8660254   0.         10.       ]\n",
      " [  0.          0.          1.        -20.       ]\n",
      " [  0.          0.          0.          1.       ]] \n",
      " [[ 0.8660254   0.5         0.         -9.02627944]\n",
      " [-0.5         0.8660254   0.          6.3660254 ]\n",
      " [ 0.          0.          1.         -8.        ]\n",
      " [ 0.          0.          0.          1.        ]] \n",
      " [[ 0.866  0.433  0.25   3.147]\n",
      " [-0.5    0.75   0.433 -0.549]\n",
      " [ 0.    -0.5    0.866 -4.098]\n",
      " [ 0.     0.     0.     1.   ]]\n",
      "[[  0.866   0.433   0.25   -7.853]\n",
      " [ -0.5     0.75    0.433  10.451]\n",
      " [  0.     -0.5     0.866 -32.098]\n",
      " [  0.      0.      0.      1.   ]]\n"
     ]
    }
   ],
   "source": [
    "#練習\n",
    "#2.13求bcT\n",
    "bat=T(Rz(30),DQ(0,10,-20))\n",
    "uatt=Tt(Rz(30),P3(11,-1,8))\n",
    "cutt=Tt(R(0.866,-0.5,0,0.433,0.75,-0.5,0.25,0.433,0.866),P3(-3,-3,3))\n",
    "print('2.13\\n',bat,'\\n',uatt,'\\n',cutt)\n",
    "print(bat*uatt*cutt)"
   ]
  },
  {
   "cell_type": "code",
   "execution_count": 9,
   "metadata": {},
   "outputs": [
    {
     "name": "stdout",
     "output_type": "stream",
     "text": [
      "[[  1.  -0.   0.   0.]\n",
      " [  0.   1.  -0.  -0.]\n",
      " [  0.   0.   1. 180.]\n",
      " [  0.   0.   0.   1.]]\n",
      "[[ 0. -1.  0.  0.]\n",
      " [ 0.  0. -1. -0.]\n",
      " [ 1.  0.  0.  0.]\n",
      " [ 0.  0.  0.  1.]]\n",
      "[[  1.  -0.   0. 140.]\n",
      " [  0.   1.  -0.  -0.]\n",
      " [  0.   0.   1.   0.]\n",
      " [  0.   0.   0.   1.]]\n",
      "[[  0.  -1.   0. 100.]\n",
      " [  1.   0.  -0.  -0.]\n",
      " [  0.   0.   1.  90.]\n",
      " [  0.   0.   0.   1.]]\n",
      "[[  0.   1.   0.   0.]\n",
      " [ -0.   0.  -1. -80.]\n",
      " [ -1.   0.   0.   0.]\n",
      " [  0.   0.   0.   1.]]\n",
      "[[  1.  -0.   0.   0.]\n",
      " [  0.   0.  -1. -60.]\n",
      " [  0.   1.   0.   0.]\n",
      " [  0.   0.   0.   1.]]\n",
      "[[  0.   0.   1.  60.]\n",
      " [  1.   0.   0. -90.]\n",
      " [  0.   1.   0. 500.]\n",
      " [  0.   0.   0.   1.]]\n",
      "(-56.31, -236.31)\n"
     ]
    },
    {
     "name": "stderr",
     "output_type": "stream",
     "text": [
      "c:\\Users\\user\\Anaconda3\\lib\\site-packages\\ipykernel_launcher.py:64: RuntimeWarning: invalid value encountered in double_scalars\n",
      "c:\\Users\\user\\Anaconda3\\lib\\site-packages\\ipykernel_launcher.py:65: RuntimeWarning: invalid value encountered in double_scalars\n"
     ]
    }
   ],
   "source": [
    "# DH_Model\n",
    "a_list = [0,0,140,100,0,0]\n",
    "alpha =  [0,90,0,0,90,90]\n",
    "d_list = [180,0,0,90,80,60]\n",
    "theta =  [0,90,0,90,-90,0]\n",
    "t01=DH(1,a_list,alpha,d_list,theta)\n",
    "t12=DH(2,a_list,alpha,d_list,theta)\n",
    "t23=DH(3,a_list,alpha,d_list,theta)\n",
    "t34=DH(4,a_list,alpha,d_list,theta)\n",
    "t45=DH(5,a_list,alpha,d_list,theta)\n",
    "t56=DH(6,a_list,alpha,d_list,theta)\n",
    "t06=t01*t12*t23*t34*t45*t56\n",
    "print(t01)\n",
    "print(t12)\n",
    "print(t23)\n",
    "print(t34)\n",
    "print(t45)\n",
    "print(t56)\n",
    "print(t06)\n",
    "print(ivk(t06,a_list,alpha,d_list))"
   ]
  },
  {
   "cell_type": "code",
   "execution_count": 10,
   "metadata": {},
   "outputs": [
    {
     "name": "stdout",
     "output_type": "stream",
     "text": [
      "Toa\n",
      " [[ 0.8660254 -0.5        0.        50.       ]\n",
      " [ 0.5        0.8660254  0.         0.       ]\n",
      " [ 0.         0.         1.         0.       ]\n",
      " [ 0.         0.         0.         1.       ]]\n",
      "Tob\n",
      " [[ 0.70710678 -0.70710678  0.         75.98076212]\n",
      " [ 0.70710678  0.70710678  0.         15.        ]\n",
      " [ 0.          0.          1.          0.        ]\n",
      " [ 0.          0.          0.          1.        ]]\n"
     ]
    }
   ],
   "source": [
    "#DH_Model\n",
    "alpha =  [0,0,0]\n",
    "a_list = [0,50,30]\n",
    "d_list = [0,0,0]\n",
    "theta =  [0,30,15]\n",
    "t01=DH(1,a_list,alpha,d_list,theta)\n",
    "t12=DH(2,a_list,alpha,d_list,theta)\n",
    "t23=DH(3,a_list,alpha,d_list,theta)\n",
    "t02=t01*t12\n",
    "t03=t02*t23\n",
    "print('Toa\\n',t02)\n",
    "print('Tob\\n',t03)"
   ]
  },
  {
   "cell_type": "code",
   "execution_count": 12,
   "metadata": {},
   "outputs": [
    {
     "name": "stdout",
     "output_type": "stream",
     "text": [
      "[[0]\n",
      " [0]\n",
      " [0]]\n",
      "[[43.3012702]\n",
      " [25.       ]\n",
      " [ 0.       ]]\n",
      "[[64.51447363]\n",
      " [46.21320343]\n",
      " [ 0.        ]]\n"
     ]
    },
    {
     "data": {
      "image/png": "[encoded data removed]",
      "text/plain": [
       "<Figure size 432x288 with 1 Axes>"
      ]
     },
     "metadata": {
      "needs_background": "light"
     },
     "output_type": "display_data"
    }
   ],
   "source": [
    "import matplotlib.pyplot as plt\n",
    "p1=P3(0,0,0)\n",
    "p2=P3(50,0,0)\n",
    "p3=P3(30,0,0)\n",
    "degree=[0,30,45]\n",
    "o00=p1\n",
    "o01=p1+Rz(-degree[1]).T*p2\n",
    "print(o00)\n",
    "print(o01)\n",
    "o02=o01+Rz(-degree[2]).T*p3\n",
    "print(o02)\n",
    "x=[o00[0,0],o01[0,0],o02[0,0]]\n",
    "y=[o00[1,0],o01[1,0],o02[1,0]]\n",
    "a=20\n",
    "for i,j,k in zip(x,y,degree):\n",
    "    list1=[[],[]]\n",
    "    list1[0].append(i+cos(90+k)*a)\n",
    "    list1[1].append(j+sin(90+k)*a)\n",
    "    list1[0].append(i)\n",
    "    list1[1].append(j)\n",
    "    list1[0].append(i+cos(0+k)*a)\n",
    "    list1[1].append(j+sin(0+k)*a)\n",
    "    # print(list1[0],list1[1])\n",
    "    plt.plot(list1[0],list1[1])\n",
    "plt.grid(True)\n",
    "plt.plot(x, y,'o')\n",
    "plt.plot(x, y)\n",
    "plt.show()\n"
   ]
  },
  {
   "cell_type": "code",
   "execution_count": null,
   "metadata": {},
   "outputs": [],
   "source": []
  }
 ],
 "metadata": {
  "kernelspec": {
   "display_name": "Python 3",
   "language": "python",
   "name": "python3"
  },
  "language_info": {
   "codemirror_mode": {
    "name": "ipython",
    "version": 3
   },
   "file_extension": ".py",
   "mimetype": "text/x-python",
   "name": "python",
   "nbconvert_exporter": "python",
   "pygments_lexer": "ipython3",
   "version": "3.9.5"
  },
  "orig_nbformat": 4,
  "vscode": {
   "interpreter": {
    "hash": "11938c6bc6919ae2720b4d5011047913343b08a43b18698fd82dedb0d4417594"
   }
  }
 },
 "nbformat": 4,
 "nbformat_minor": 2
}
