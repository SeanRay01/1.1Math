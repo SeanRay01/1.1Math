{
 "cells": [
  {
   "cell_type": "code",
   "execution_count": 114,
   "metadata": {},
   "outputs": [],
   "source": [
    "import numpy as np\n",
    "import math\n",
    "pi=np.pi\n",
    "def sin(t):\n",
    "    return(round(np.sin(t/180*pi),9))\n",
    "def cos(t):\n",
    "    return(round(np.cos(t/180*pi),9))\n",
    "def ten(t):\n",
    "    return(round(np.tan(t/180*pi),9))\n",
    "def atan2(x,y):\n",
    "    return(round(np.arctan2(x,y)*180/pi,9))\n",
    "def DH(i,a,alpha,d,theta):\n",
    "    i-=1\n",
    "    return(np.mat([[cos(theta[i]),-sin(theta[i]),0,a[i]],\n",
    "                     [sin(theta[i])*cos(alpha[i]),cos(theta[i])*cos(alpha[i]),-sin(alpha[i]),-sin(alpha[i])*d[i]],\n",
    "                     [sin(theta[i])*sin(alpha[i]),cos(theta[i])*sin(alpha[i]),cos(alpha[i]),cos(alpha[i])*d[i]],\n",
    "                     [0,0,0,1]]))\n",
    "def ivk(t,a,alpha,d):\n",
    "    th11=round(atan2(t[1,3],t[0,3])-atan2(0,(t[0,3]**2 + t[1,3]**2)**0.5),2)\n",
    "    th12=round(atan2(t[1,3],t[0,3])-atan2(0,-(t[0,3]**2 + t[1,3]**2)**0.5),2)\n",
    "    k=(t[0,3]**2+t[1,3]**2+t[2,3]**2-a[2]**2-a[3]**2-d[2]**2-d[3]**2)/(2*a[2])\n",
    "    th31=round(atan2(a[3],d[3])-atan2(k,((a[3]**2)+(d[3]**2)-(k**2))**0.5),2)\n",
    "    th32=round(atan2(a[3],d[3])+atan2(k,-((a[3]**2)+(d[3]**2)-(k**2))**0.5),2)\n",
    "    return(th11,th12,th31,th32)"
   ]
  },
  {
   "cell_type": "code",
   "execution_count": 115,
   "metadata": {},
   "outputs": [
    {
     "name": "stdout",
     "output_type": "stream",
     "text": [
      "[[ 8.83022222e-01  3.21393805e-01  3.42020143e-01 -9.79440363e+01]\n",
      " [ 3.21393805e-01  1.16977778e-01 -9.39692621e-01 -3.56487138e+01]\n",
      " [-3.42020143e-01  9.39692621e-01  0.00000000e+00 -1.43988764e+02]\n",
      " [ 0.00000000e+00  0.00000000e+00  0.00000000e+00  1.00000000e+00]]\n",
      "(-160.0, -340.0, 20.0, -160.0)\n"
     ]
    }
   ],
   "source": [
    "# DH_Model\n",
    "a_list = [0,0,150,30,0,0]\n",
    "alpha =  [0,-90,0,-90,90,-90]\n",
    "d_list = [0,0,0,100,0,0]\n",
    "theta =  [20,90,20,90,-90,0]\n",
    "t01=DH(1,a_list,alpha,d_list,theta)\n",
    "t12=DH(2,a_list,alpha,d_list,theta)\n",
    "t23=DH(3,a_list,alpha,d_list,theta)\n",
    "t34=DH(4,a_list,alpha,d_list,theta)\n",
    "t45=DH(5,a_list,alpha,d_list,theta)\n",
    "t56=DH(6,a_list,alpha,d_list,theta)\n",
    "t06=t01*t12*t23*t34*t45*t56\n",
    "print(t06)\n",
    "print(ivk(t06,a_list,alpha,d_list))"
   ]
  }
 ],
 "metadata": {
  "kernelspec": {
   "display_name": "Python 3",
   "language": "python",
   "name": "python3"
  },
  "language_info": {
   "codemirror_mode": {
    "name": "ipython",
    "version": 3
   },
   "file_extension": ".py",
   "mimetype": "text/x-python",
   "name": "python",
   "nbconvert_exporter": "python",
   "pygments_lexer": "ipython3",
   "version": "3.9.5"
  },
  "orig_nbformat": 4,
  "vscode": {
   "interpreter": {
    "hash": "11938c6bc6919ae2720b4d5011047913343b08a43b18698fd82dedb0d4417594"
   }
  }
 },
 "nbformat": 4,
 "nbformat_minor": 2
}
