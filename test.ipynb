{
 "cells": [
  {
   "cell_type": "code",
   "execution_count": 115,
   "metadata": {},
   "outputs": [],
   "source": [
    "import numpy as np\n",
    "import math\n",
    "pi=np.pi\n",
    "def sin(t):\n",
    "    return(round(np.sin(t/180*pi),9))\n",
    "def cos(t):\n",
    "    return(round(np.cos(t/180*pi),9))\n",
    "def tan(t):\n",
    "    return(round(np.tan(t/180*pi),9))\n",
    "def atan(x,y):\n",
    "    return(round(np.arctan(y/x)*180/pi,9))\n",
    "def atan2(y,x):\n",
    "    return(round(np.arctan2(y,x)*180/pi,9))\n",
    "def DH(i,a,alpha,d,theta):\n",
    "    i-=1\n",
    "    return(np.mat([[cos(theta[i]),-sin(theta[i]),0,a[i]],\n",
    "                     [sin(theta[i])*cos(alpha[i]),cos(theta[i])*cos(alpha[i]),-sin(alpha[i]),-sin(alpha[i])*d[i]],\n",
    "                     [sin(theta[i])*sin(alpha[i]),cos(theta[i])*sin(alpha[i]),cos(alpha[i]),cos(alpha[i])*d[i]],\n",
    "                     [0,0,0,1]]))\n",
    "def ivk(t,a,alpha,d):\n",
    "    th11=round(atan2(t[1,3],t[0,3])+atan2(d[2],(t[0,3]**2 + t[1,3]**2-d[2]**2)**0.5),2)\n",
    "    th12=round(atan2(t[1,3],t[0,3])-atan2(d[2],-(t[0,3]**2 + t[1,3]**2-d[2]**2)**0.5),2)\n",
    "    k=(t[0,3]**2+t[1,3]**2+t[2,3]**2-a[2]**2-a[3]**2-d[2]**2-d[3]**2)/(2*a[2])\n",
    "    th31=round(atan2(a[3],d[3])-atan2(k,((a[3]**2)+(d[3]**2)-(k**2))**0.5),2)\n",
    "    th32=round(atan2(a[3],d[3])+atan2(k,-((a[3]**2)+(d[3]**2)-(k**2))**0.5),2)\n",
    "    return(th11,th12,th31,th32)\n",
    "def ivks(t,a,alpha,d):\n",
    "    th11=round(atan(t[0,3],t[1,3])+atan((t[0,3]**2 + t[1,3]**2-d[2]**2)**0.5,d[2]),2)\n",
    "    th12=round(atan(t[0,3],t[1,3])-atan(-(t[0,3]**2 + t[1,3]**2-d[2]**2)**0.5,d[2]),2)\n",
    "    k=(t[0,3]**2+t[1,3]**2+t[2,3]**2-a[2]**2-a[3]**2-d[2]**2-d[3]**2)/(2*a[2])\n",
    "    th31=round(atan(d[3],a[3])-atan(((a[3]**2)+(d[3]**2)-(k**2))**0.5,k),2)\n",
    "    th32=round(atan(d[3],a[3])+atan(-((a[3]**2)+(d[3]**2)-(k**2))**0.5,k),2)\n",
    "    \n",
    "    return(th11,th12,th31,th32)"
   ]
  },
  {
   "cell_type": "code",
   "execution_count": 116,
   "metadata": {},
   "outputs": [
    {
     "name": "stdout",
     "output_type": "stream",
     "text": [
      "[[   0.88302222    0.3213938     0.34202014 -115.04504348]\n",
      " [   0.3213938     0.11697778   -0.93969262   11.33591724]\n",
      " [  -0.34202014    0.93969262    0.          -93.98876433]\n",
      " [   0.            0.            0.            1.        ]]\n",
      "(200.0, 20.0, 20.0, -160.0)\n",
      "(20.0, 20.0, 20.0, 20.0)\n"
     ]
    }
   ],
   "source": [
    "# DH_Model\n",
    "a_list = [0,0,100,30,0,0]\n",
    "alpha =  [0,-90,0,-90,90,-90]\n",
    "d_list = [0,0,50,100,0,0]\n",
    "theta =  [20,90,20,90,-90,0]\n",
    "t01=DH(1,a_list,alpha,d_list,theta)\n",
    "t12=DH(2,a_list,alpha,d_list,theta)\n",
    "t23=DH(3,a_list,alpha,d_list,theta)\n",
    "t34=DH(4,a_list,alpha,d_list,theta)\n",
    "t45=DH(5,a_list,alpha,d_list,theta)\n",
    "t56=DH(6,a_list,alpha,d_list,theta)\n",
    "t06=t01*t12*t23*t34*t45*t56\n",
    "print(t06)\n",
    "print(ivk(t06,a_list,alpha,d_list))\n",
    "th11,th12,th31,th32=ivk(t06,a_list,alpha,d_list)\n",
    "print(ivks(t06,a_list,alpha,d_list))"
   ]
  },
  {
   "cell_type": "code",
   "execution_count": 117,
   "metadata": {},
   "outputs": [
    {
     "name": "stdout",
     "output_type": "stream",
     "text": [
      "200.0 20.0\n",
      "-6737.028256124416 4793.602500207121\n",
      "-54.566980832\n",
      "--------------\n",
      "200.0 -160.0\n",
      "19280.989137601297 -20000.249922150848\n",
      "136.048999563\n",
      "--------------\n",
      "20.0 20.0\n",
      "19105.570998816434 18509.833019154677\n",
      "45.90735217\n",
      "--------------\n",
      "20.0 -160.0\n",
      "5945.973851706683 7975.466122389047\n",
      "36.705747445\n",
      "--------------\n"
     ]
    }
   ],
   "source": [
    "a=a_list\n",
    "d=d_list\n",
    "t=t06\n",
    "for th1 in [th11,th12]:\n",
    "    for th3 in [th31,th32]:\n",
    "        th23=atan2((-d[3]+a[2]*sin(th3))*t[2,3]-(a[3]+a[2]*cos(th3))*(t[0,3]*cos(th1)+t[1,3]*sin(th1)),\n",
    "                   (-a[3]-a[2]*cos(th3))*t[2,3]-(d[3]-a[2]*sin(th3))*(t[0,3]*cos(th1)+t[1,3]*sin(th1)))\n",
    "        print(th1,th3)\n",
    "        print((-d[3]+a[2]*sin(th3))*t[2,3]-(a[3]+a[2]*cos(th3))*(t[0,3]*cos(th1)+t[1,3]*sin(th1)),\n",
    "              (-a[3]-a[2]*cos(th3))*t[2,3]-(d[3]-a[2]*sin(th3))*(t[0,3]*cos(th1)+t[1,3]*sin(th1)))\n",
    "        print(th23)\n",
    "        print('--------------')"
   ]
  },
  {
   "cell_type": "code",
   "execution_count": 118,
   "metadata": {},
   "outputs": [
    {
     "name": "stdout",
     "output_type": "stream",
     "text": [
      "0.0 0.0 1.0 -1.0\n"
     ]
    }
   ],
   "source": [
    "print(sin(0),sin(180),cos(0),cos(180))"
   ]
  }
 ],
 "metadata": {
  "kernelspec": {
   "display_name": "Python 3",
   "language": "python",
   "name": "python3"
  },
  "language_info": {
   "codemirror_mode": {
    "name": "ipython",
    "version": 3
   },
   "file_extension": ".py",
   "mimetype": "text/x-python",
   "name": "python",
   "nbconvert_exporter": "python",
   "pygments_lexer": "ipython3",
   "version": "3.9.5"
  },
  "orig_nbformat": 4,
  "vscode": {
   "interpreter": {
    "hash": "11938c6bc6919ae2720b4d5011047913343b08a43b18698fd82dedb0d4417594"
   }
  }
 },
 "nbformat": 4,
 "nbformat_minor": 2
}
