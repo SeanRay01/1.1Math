{
 "cells": [
  {
   "cell_type": "code",
   "execution_count": 31,
   "metadata": {},
   "outputs": [],
   "source": [
    "import numpy as np\n",
    "import matplotlib.pyplot as plt\n",
    "pi=np.pi\n",
    "def sin(t):\n",
    "    return(np.round(np.sin(t/180*pi),9))\n",
    "def cos(t):\n",
    "    return(np.round(np.cos(t/180*pi),9))\n",
    "def ten(t):\n",
    "    return(np.round(np.tan(t/180*pi),9))\n",
    "def atan2(x,y):\n",
    "    return(round(np.arctan2(y,x)*180/pi,5))\n",
    "def DQ(x,y,z):#平移算式\n",
    "    return(np.mat([[1,0,0,x],\n",
    "                     [0,1,0,y],\n",
    "                     [0,0,1,z],\n",
    "                     [0,0,0,1]],dtype='float'))\n",
    "def Rx(t):#X旋轉\n",
    "    return(np.mat([[1,0,0],\n",
    "                     [0,cos(t),-sin(t)],\n",
    "                     [0,sin(t),cos(t)]]))\n",
    "def Ry(t):#Y旋轉\n",
    "    return(np.mat([[cos(t),0,sin(t)],\n",
    "                     [0,1,0],\n",
    "                     [-sin(t),0,cos(t)]]))\n",
    "def Rz(t):#Z旋轉\n",
    "    return(np.mat([[cos(t),-sin(t),0],\n",
    "                     [sin(t),cos(t),0],\n",
    "                     [0,0,1]]))  \n",
    "def T(r,dq):#一般變換!!!\n",
    "    dq[0:3,0:3]=r\n",
    "    return(dq)\n",
    "def Tt(r,p):#逆變換!!!\n",
    "    p=-r.T*p\n",
    "    return(np.vstack((np.hstack((r.T,p)),[0,0,0,1])))\n",
    "def Rxyz(r,b,a):#XYZ固定角\n",
    "    return(np.mat([[cos(a)*cos(b),cos(a)*sin(b)*sin(r)-sin(a)*cos(r),cos(a)*sin(b)*cos(r)+sin(a)*sin(r)],\n",
    "                     [sin(a)*cos(b),sin(a)*sin(b)*sin(r)+cos(a)*cos(r),sin(a)*sin(b)*cos(r)-cos(a)*sin(r)],\n",
    "                     [-sin(b),cos(b)*sin(r),cos(b)*cos(r)]]))\n",
    "def Rzyz(r,b,a):#ZYZ歐拉角\n",
    "    return(np.mat([[cos(a)*cos(b)*cos(r)-sin(a)*sin(r),-cos(a)*cos(b)*sin(r)-sin(a)*cos(r),cos(a)*sin(b)],\n",
    "                     [sin(a)*cos(b)*cos(r)+cos(a)*sin(r),-sin(a)*cos(b)*sin(r)+cos(a)*cos(r),sin(a)*sin(b)],\n",
    "                     [-sin(b)*cos(r),sin(b)*sin(r),cos(b)]]))                     \n",
    "def Rk(th,x,y,z):#等效角\n",
    "    return(np.mat([[x*x*(1-cos(th))+cos(th),y*x*(1-cos(th))-z*sin(th),z*x*(1-cos(th))+y*sin(th)],\n",
    "                     [x*y*(1-cos(th))+z*sin(th),y*y*(1-cos(th))+cos(th),z*y*(1-cos(th))-x*sin(th)],\n",
    "                     [x*z*(1-cos(th))-y*sin(th),y*z*(1-cos(th))+x*sin(th),z*z*(1-cos(th))+cos(th)]]))\n",
    "def DH(i,a,alpha,d,theta):\n",
    "    i-=1\n",
    "    return(np.mat([[cos(theta[i]),-sin(theta[i])*cos(alpha[i]),sin(theta[i])*sin(alpha[i]),a[i]*cos(theta[i])],\n",
    "                     [sin(theta[i]),cos(theta[i])*cos(alpha[i]),-cos(theta[i])*sin(alpha[i]),a[i]*sin(theta[i])],\n",
    "                     [0,sin(alpha[i]),cos(alpha[i]),d[i]],\n",
    "                     [0,0,0,1]]))\n",
    "def SixAxisModel(a_list,alpha,d_list,theta):\n",
    "    t00=DQ(0,0,0)\n",
    "    t01=DH(1,a_list,alpha,d_list,theta)\n",
    "    t12=DH(2,a_list,alpha,d_list,theta)\n",
    "    t02=t01*t12\n",
    "    t23=DH(3,a_list,alpha,d_list,theta)\n",
    "    t03=t02*t23\n",
    "    t34=DH(4,a_list,alpha,d_list,theta)\n",
    "    t04=t03*t34\n",
    "    t45=DH(5,a_list,alpha,d_list,theta)\n",
    "    t05=t04*t45\n",
    "    t56=DH(6,a_list,alpha,d_list,theta)\n",
    "    t06=t05*t56\n",
    "    t06=t01*t12*t23*t34*t45*t56\n",
    "    t=[t00,t01,t02,t03,t04,t05,t06]\n",
    "    return(t)\n",
    "def inverse_kinematics(a_list,d_list,t06):\n",
    "    theta=[0,1,2,3,4,5,6]\n",
    "    o=[0,t06[0,3],t06[1,3],t06[2,3]]\n",
    "    r=[[0],[0,t06[0,0],t06[0,1],t06[0,2]],[0,t06[1,0],t06[1,1],t06[1,2]],[0,t06[2,0],t06[2,1],t06[2,2]]]\n",
    "    x=o[1]-d_list[5]*r[1][3]\n",
    "    y=o[2]-d_list[5]*r[2][3]\n",
    "    z=o[3]-d_list[5]*r[3][3]\n",
    "    # print(x,y,z)\n",
    "    d=round((x**2+y**2+(z-d_list[0])**2-a_list[1]**2-a_list[2]**2)/(2*a_list[1]*a_list[2]),8)\n",
    "    theta[1]=atan2(x,y)\n",
    "    theta[3]=(atan2(d,(1-d**2)**0.5))\n",
    "    theta[2]=atan2((x**2+y**2)**0.5,z-d_list[0])-atan2(a_list[1]+a_list[2]*cos(theta[3]),a_list[2]*sin(theta[3]))\n",
    "    theta[5]=atan2(r[1][3]*sin(theta[1])-r[2][3]*cos(theta[1]),(1-(r[1][3]*sin(theta[1])-r[2][3]*cos(theta[1]))**2)**0.5)\n",
    "    theta[4]=atan2(r[1][3]*cos(theta[1])*cos(theta[2]+theta[3])+r[2][3]*sin(theta[1])*cos(theta[2]+theta[3])+r[3][3]*sin(theta[2]+theta[3]),-r[1][3]*cos(theta[1])*cos(theta[2]+theta[3])-r[2][3]*sin(theta[1])*sin(theta[2]+theta[3])+r[3][3]*cos(theta[2]+theta[3]))\n",
    "    theta[6]=atan2(-r[1][1]*sin(theta[1])+r[2][1]*cos(theta[1]),r[1][2]*sin(theta[1])-r[2][2]*cos(theta[1]))\n",
    "    return(theta)"
   ]
  },
  {
   "cell_type": "code",
   "execution_count": 32,
   "metadata": {},
   "outputs": [
    {
     "name": "stdout",
     "output_type": "stream",
     "text": [
      "[[ 0.00000000e+00  8.66025404e-01  5.00000000e-01  2.50000000e+02]\n",
      " [-8.66025404e-01  2.50000000e-01 -4.33012702e-01  3.13823735e+02]\n",
      " [-5.00000000e-01 -4.33012702e-01  7.50000000e-01  3.15533009e+03]\n",
      " [ 0.00000000e+00  0.00000000e+00  0.00000000e+00  1.00000000e+00]]\n",
      "[0, 90.0, 45.0, 45.0, 30.0, 60.0, 90.0]\n"
     ]
    }
   ],
   "source": [
    "# DH_Model\n",
    "a_list = [0,750,750,0,0,0]\n",
    "alpha =  [90,0,0,-90,90,0]\n",
    "d_list = [1500,0,0,0,0,500]\n",
    "thetas =  [90,45,45,30,60,90]\n",
    "t06=SixAxisModel(a_list,alpha,d_list,thetas)[6]\n",
    "print(t06)\n",
    "theta=inverse_kinematics(a_list,d_list,t06)\n",
    "print(theta)"
   ]
  },
  {
   "cell_type": "code",
   "execution_count": 36,
   "metadata": {},
   "outputs": [
    {
     "name": "stdout",
     "output_type": "stream",
     "text": [
      "[0. 0.] [0. 0.] [   0. 1500.]\n",
      "[0. 0.] [  0.         530.33008575] [1500.         2030.33008575]\n",
      "[0. 0.] [530.33008575 530.33008575] [2030.33008575 2780.33008535]\n",
      "[0. 0.] [530.33008575 530.33008575] [2780.33008535 2780.33008535]\n",
      "[0. 0.] [530.33008575 530.33008575] [2780.33008535 2780.33008535]\n",
      "[  0. 250.] [530.33008575 313.82373486] [2780.33008535 3155.33008534]\n"
     ]
    },
    {
     "name": "stderr",
     "output_type": "stream",
     "text": [
      "C:\\Users\\seanray\\AppData\\Local\\Temp/ipykernel_16944/1098462191.py:3: MatplotlibDeprecationWarning: Calling gca() with keyword arguments was deprecated in Matplotlib 3.4. Starting two minor releases later, gca() will take no keyword arguments. The gca() function should only be used to get the current axes, or if no axes exist, create new axes with default keyword arguments. To create a new axes with non-default arguments, use plt.axes() or plt.subplot().\n",
      "  ax = fig.gca(projection='3d')\n"
     ]
    },
    {
     "data": {
      "image/png": "[encoded data removed]",
      "text/plain": [
       "<Figure size 432x288 with 1 Axes>"
      ]
     },
     "metadata": {
      "needs_background": "light"
     },
     "output_type": "display_data"
    }
   ],
   "source": [
    "# 建立 3D 圖形\n",
    "fig = plt.figure()\n",
    "ax = fig.gca(projection='3d')\n",
    "#繪製坐標軸\n",
    "x=np.linspace(-2000, 2000, 100)\n",
    "y=np.linspace(0,0, 100)\n",
    "z=np.linspace(0,3500, 100)\n",
    "ax.plot(x,y,y, color='red')   #畫出三軸資料所構成的曲面\n",
    "ax.plot(y,x,y, color='red')   #畫出三軸資料所構成的曲面\n",
    "ax.plot(y,y,z, color='red',label='coordinate')   #畫出三軸資料所構成的曲面\n",
    "#繪製手臂位置\n",
    "def plot_dot(t1,t2):\n",
    "    x=np.linspace(t1[0,3],t2[0,3], 2)\n",
    "    y=np.linspace(t1[1,3],t2[1,3], 2)\n",
    "    z=np.linspace(t1[2,3],t2[2,3], 2)\n",
    "    ax.plot(x,y,z)\n",
    "    print(x,y,z)\n",
    "    ax.scatter(x,y,z, c=z, cmap='jet')\n",
    "t=SixAxisModel(a_list,alpha,d_list,thetas)\n",
    "for i in range(6):\n",
    "    plot_dot(t[i],t[i+1])\n",
    "# 顯示圖例\n",
    "ax.legend()\n",
    "# 顯示圖形\n",
    "plt.show()"
   ]
  }
 ],
 "metadata": {
  "kernelspec": {
   "display_name": "Python 3",
   "language": "python",
   "name": "python3"
  },
  "language_info": {
   "codemirror_mode": {
    "name": "ipython",
    "version": 3
   },
   "file_extension": ".py",
   "mimetype": "text/x-python",
   "name": "python",
   "nbconvert_exporter": "python",
   "pygments_lexer": "ipython3",
   "version": "3.9.5"
  },
  "orig_nbformat": 4
 },
 "nbformat": 4,
 "nbformat_minor": 2
}
