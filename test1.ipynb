{
 "cells": [
  {
   "cell_type": "code",
   "execution_count": 1,
   "metadata": {},
   "outputs": [],
   "source": [
    "import numpy as np\n",
    "pi=np.pi\n",
    "def sin(t):\n",
    "    return(np.round(np.sin(t/180*pi),9))\n",
    "def cos(t):\n",
    "    return(np.round(np.cos(t/180*pi),9))\n",
    "def ten(t):\n",
    "    return(np.round(np.tan(t/180*pi),9))\n",
    "def atan2(x,y):\n",
    "    return(round(np.arctan2(x,y)*180/pi,5))\n",
    "def P3(x,y,z):#位置矢量\n",
    "    return(np.mat([[x],[y],[z]]))\n",
    "def P4(x,y,z):#位置矢量\n",
    "    return(np.mat([[x],[y],[z],[1]]))\n",
    "def DQ(x,y,z):#平移算式\n",
    "    return(np.mat([[1,0,0,x],\n",
    "                     [0,1,0,y],\n",
    "                     [0,0,1,z],\n",
    "                     [0,0,0,1]],dtype='float'))\n",
    "def Rx(t):#X旋轉\n",
    "    return(np.mat([[1,0,0],\n",
    "                     [0,cos(t),-sin(t)],\n",
    "                     [0,sin(t),cos(t)]]))\n",
    "def Ry(t):#Y旋轉\n",
    "    return(np.mat([[cos(t),0,sin(t)],\n",
    "                     [0,1,0],\n",
    "                     [-sin(t),0,cos(t)]]))\n",
    "def Rz(t):#Z旋轉\n",
    "    return(np.mat([[cos(t),-sin(t),0],\n",
    "                     [sin(t),cos(t),0],\n",
    "                     [0,0,1]]))  \n",
    "def R(r11,r12,r13,r21,r22,r23,r31,r32,r33):#平移算式\n",
    "    return(np.mat([[r11,r12,r13],\n",
    "                     [r21,r22,r23],\n",
    "                     [r31,r32,r33]]))\n",
    "def T(r,dq):#一般變換!!!\n",
    "    dq[0:3,0:3]=r\n",
    "    return(dq)\n",
    "def Tt(r,p):#逆變換!!!\n",
    "    p=-r.T*p\n",
    "    return(np.vstack((np.hstack((r.T,p)),[0,0,0,1])))\n",
    "def Rxyz(r,b,a):#XYZ固定角\n",
    "    return(np.mat([[cos(a)*cos(b),cos(a)*sin(b)*sin(r)-sin(a)*cos(r),cos(a)*sin(b)*cos(r)+sin(a)*sin(r)],\n",
    "                     [sin(a)*cos(b),sin(a)*sin(b)*sin(r)+cos(a)*cos(r),sin(a)*sin(b)*cos(r)-cos(a)*sin(r)],\n",
    "                     [-sin(b),cos(b)*sin(r),cos(b)*cos(r)]]))\n",
    "def Rzyz(r,b,a):#ZYZ歐拉角\n",
    "    return(np.mat([[cos(a)*cos(b)*cos(r)-sin(a)*sin(r),-cos(a)*cos(b)*sin(r)-sin(a)*cos(r),cos(a)*sin(b)],\n",
    "                     [sin(a)*cos(b)*cos(r)+cos(a)*sin(r),-sin(a)*cos(b)*sin(r)+cos(a)*cos(r),sin(a)*sin(b)],\n",
    "                     [-sin(b)*cos(r),sin(b)*sin(r),cos(b)]]))                     \n",
    "def Rk(th,x,y,z):#等效角\n",
    "    return(np.mat([[x*x*(1-cos(th))+cos(th),y*x*(1-cos(th))-z*sin(th),z*x*(1-cos(th))+y*sin(th)],\n",
    "                     [x*y*(1-cos(th))+z*sin(th),y*y*(1-cos(th))+cos(th),z*y*(1-cos(th))-x*sin(th)],\n",
    "                     [x*z*(1-cos(th))-y*sin(th),y*z*(1-cos(th))+x*sin(th),z*z*(1-cos(th))+cos(th)]]))\n",
    "def DH(i,a,alpha,d,theta):\n",
    "    i-=1\n",
    "    return(np.mat([[cos(theta[i]),-sin(theta[i]),0,a[i]],\n",
    "                     [sin(theta[i])*cos(alpha[i]),cos(theta[i])*cos(alpha[i]),-sin(alpha[i]),-sin(alpha[i])*d[i]],\n",
    "                     [sin(theta[i])*sin(alpha[i]),cos(theta[i])*sin(alpha[i]),cos(alpha[i]),cos(alpha[i])*d[i]],\n",
    "                     [0,0,0,1]]))\n"
   ]
  },
  {
   "cell_type": "code",
   "execution_count": 3,
   "metadata": {},
   "outputs": [
    {
     "name": "stdout",
     "output_type": "stream",
     "text": [
      "[[  1.   0.   0.   0.]\n",
      " [  0.   1.   0. 100.]\n",
      " [  0.   0.   1. 100.]\n",
      " [  0.   0.   0.   1.]]\n",
      "[[  1.   0.   0. -50.]\n",
      " [  0.   1.   0.  50.]\n",
      " [  0.   0.   1.   0.]\n",
      " [  0.   0.   0.   1.]]\n",
      "[[  0.   1.   0.   0.]\n",
      " [  1.   0.   0.   0.]\n",
      " [  0.   0.  -1. 200.]\n",
      " [  0.   0.   0.   1.]]\n",
      "[[  0.   1.   0. -50.]\n",
      " [  1.   0.   0. 150.]\n",
      " [  0.   0.  -1. 300.]\n",
      " [  0.   0.   0.   1.]]\n"
     ]
    }
   ],
   "source": [
    "h01=DQ(0,100,0)*DQ(0,0,100)\n",
    "h12=DQ(-50,0,0)*DQ(0,50,0)\n",
    "h23=DQ(0,0,200)*T(Rz(90),DQ(0,0,0))*T(Rx(180),DQ(0,0,0))\n",
    "h03=h01*h12*h23\n",
    "print(h01)\n",
    "print(h12)\n",
    "print(h23)\n",
    "print(h03)"
   ]
  }
 ],
 "metadata": {
  "kernelspec": {
   "display_name": "Python 3",
   "language": "python",
   "name": "python3"
  },
  "language_info": {
   "codemirror_mode": {
    "name": "ipython",
    "version": 3
   },
   "file_extension": ".py",
   "mimetype": "text/x-python",
   "name": "python",
   "nbconvert_exporter": "python",
   "pygments_lexer": "ipython3",
   "version": "3.10.9"
  },
  "orig_nbformat": 4
 },
 "nbformat": 4,
 "nbformat_minor": 2
}
